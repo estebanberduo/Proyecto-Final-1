{
 "cells": [
  {
   "cell_type": "markdown",
   "metadata": {},
   "source": [
    "# Grafique el comportamiento de los individuos que tienen 3 familiares y grafique su distribucion normal \n"
   ]
  },
  {
   "cell_type": "markdown",
   "metadata": {},
   "source": [
    "Se importan las librerias como en las preguntas anteriores, definimos nuestro, para poder graficar, al inicio se ordenan de menor a mayor para que la grafica tenga sentido, lego de ordenarla, la ponemos dentro de una variable y le damos describe para poder obtener la desviacion estandar y tenemos que obtener tambien la media que son los dos datos para obtener la disviacion estandar y dentro de la grafica ya sale la desviacion estandar."
   ]
  },
  {
   "cell_type": "code",
   "execution_count": null,
   "metadata": {
    "collapsed": true
   },
   "outputs": [],
   "source": [
    "import numpy as np\n",
    "import pandas as pd\n",
    "import matplotlib as mpl\n",
    "import matplotlib.pyplot as plt\n",
    "import seaborn as sns\n",
    "\n",
    "\n",
    "data = pd.read_csv(\"seguross.csv\")\n",
    "\n",
    "xc = data.sort_values('Individual3plus40',ascending=True)\n",
    "\n",
    "xc = data.sort_values('Individual3plus40',ascending=True)\n",
    "\n",
    "sns.distplot(tyu.dropna())\n",
    "\n",
    "tyu.describe()\n",
    "\n",
    "tyu.std()\n",
    "\n",
    "tyu.mean()\n",
    "\n",
    "sns.set_palette(\"deep\", desat=.6)\n",
    "sns.set_context(rc={\"figure.figsize\": (8, 4)})\n",
    "\n",
    "mu, sigma = 795.84, 214 # media y desvio estandar\n",
    "s = np.random.normal(mu, sigma, 1000) #creando muestra de datos\n",
    "\n",
    "# histograma de distribución normal.\n",
    "distribucion normal = plt.hist(s, 30, normed=True)\n",
    "normal = plt.plot(cajas, 1/(sigma * np.sqrt(2 * np.pi)) *\n",
    "         np.exp( - (cajas - mu)**2 / (2 * sigma**2) ),\n",
    "         linewidth=2, color='r')\n",
    "         \n",
    "tyu.max()"
   ]
  },
  {
   "cell_type": "markdown",
   "metadata": {},
   "source": []
  }
 ],
 "metadata": {
  "kernelspec": {
   "display_name": "Python 2",
   "language": "python",
   "name": "python2"
  },
  "language_info": {
   "codemirror_mode": {
    "name": "ipython",
    "version": 2
   },
   "file_extension": ".py",
   "mimetype": "text/x-python",
   "name": "python",
   "nbconvert_exporter": "python",
   "pygments_lexer": "ipython2",
   "version": "2.7.11"
  }
 },
 "nbformat": 4,
 "nbformat_minor": 0
}
