{
 "cells": [
  {
   "cell_type": "code",
   "execution_count": null,
   "metadata": {
    "collapsed": true
   },
   "outputs": [],
   "source": [
    "#  ¡cual es el costo promedio de ER para un seguo de baja calidad ? (menos o igual a silver)"
   ]
  },
  {
   "cell_type": "code",
   "execution_count": null,
   "metadata": {
    "collapsed": true
   },
   "outputs": [],
   "source": [
    "seguros1 = (data.loc[data['State'] == 'TX'])\n",
    "seguros2 = (data.loc[data['State'] == 'GA'])\n",
    "seguros3 = (data.loc[data['State'] == 'OH'])\n",
    "seguros4 = (data.loc[data['State'] == 'AZ'])\n",
    "\n",
    "frames = [seguros1, seguros2, seguros3, seguros4]\n",
    "\n",
    "result = pd.concat(frames)\n",
    "\n",
    "\n",
    "silver = (result.loc[result['Metal_level'] == 'Silver'])\n",
    "bronze = (result.loc[result['Metal_level'] == 'Bronze'])\n",
    "catastrophic = (result.loc[result['Metal_level'] == 'Catastrophic'])\n",
    "\n",
    "\n",
    "\n",
    "\n",
    "\n",
    "\n",
    "print ('')\n",
    "print ('Escriba el tipo de seguro que quiere saber el costo promedio entre comillas: ')\n",
    "print ('Premium_child/Premium_adult_Age21/Premium_adult_Age27/Premium_adult_Age30/Premium_adult_Age40/Premium_adult_Age50/Premium_adult_Age60/Premium_couple21/Premium_couple30/Premium_couple40/Premium_couple50/Premium_couple60/Couple1childAge21/Couple1childAge30/Couple1childAge40/Couple1childAge50/Couple3+21/Couple3+30/Couple3+40Couple3+50/Couple3+60/Individual+1_30/Individual+1_40/Individual+1_50/Individual3+21/Individual3+30/Individual3+40/Individual3+50/Medical_deductible_family_standard/Medical_Maximum_Out_Of_Pocket _individual _standard/Medical_Maximum_Out_of_Pocket_family_standard')\n",
    "print ('')\n",
    "x = input()\n",
    "print ('Silver:')\n",
    "CS = print (silver.groupby(['State'])[x].mean())\n",
    "\n",
    "print ('Bronze:')\n",
    "CB = print (silver.groupby(['State'])[x].mean())\n",
    "\n",
    "print ('Catastrophic:')\n",
    "CC = print (silver.groupby(['State'])[x].mean())\n",
    "\n",
    "crosstab = pd.crosstab(x,data[\"Metal_level\"])\n",
    "\n",
    "plt.bar(left, height, width=0.8, bottom=None, hold=None, data=Cs, **kwargs)\n",
    "\n",
    "\n",
    "\n"
   ]
  }
 ],
 "metadata": {
  "kernelspec": {
   "display_name": "Python 3",
   "language": "python",
   "name": "python3"
  },
  "language_info": {
   "codemirror_mode": {
    "name": "ipython",
    "version": 3
   },
   "file_extension": ".py",
   "mimetype": "text/x-python",
   "name": "python",
   "nbconvert_exporter": "python",
   "pygments_lexer": "ipython3",
   "version": "3.5.1"
  }
 },
 "nbformat": 4,
 "nbformat_minor": 0
}
