{
 "cells": [
  {
   "cell_type": "code",
   "execution_count": null,
   "metadata": {
    "collapsed": true
   },
   "outputs": [],
   "source": [
    "# -*- coding: utf-8 -*-\n",
    "\"\"\"\n",
    "Created on Fri May 13 08:49:08 2016\n",
    "\n",
    "@author: georgehirst\n",
    "\"\"\"\n",
    "\n",
    "import pandas as pd \n",
    "import numpy as np \n",
    "import matplotlib as plt \n",
    "import seaborn as sb \n",
    "\n",
    "\n",
    "datst = pd.read_csv('seguros.csv')\n",
    "\n",
    "x = dst[['State','Specialty_Drugs_standard','Preferred_Brand_Drugs_standard']]\n",
    "alaska = x[dst.State == 'AK']\n",
    "total = len(alaska.index)\n",
    "\n",
    "def variaciones(g):\n",
    "    filtro = (alaska.loc[alaska['Specialty_Drugs_standard'] == g])\n",
    "    p1 = filtro.groupby(['Specialty_Drugs_standard'])['State'].count() * 100/len(gold)\n",
    "    p2 = filtro.groupby(['Preferred_Brand_Drugs_standard'])['State'].count() * 100/len(gold)\n",
    "    print ('porcentaje de los que usan el Specialty Drug Standard ingresado sobre el total de usuarios del estado Alaksa')\n",
    "    print p1[0]\n",
    "    print ('porcentaje de los que usan Preferred Brand Drug standard ingresado sobre el total de usuarios del estado Alaska')\n",
    "    print p2[0]\n",
    "    print('diferencia de porcentajes')\n",
    "    print p1[0]-p2[0]\n",
    "\n",
    "\n",
    "o = input()\n",
    "variaciones(o)\n",
    "\n",
    "grafica = variaciones \n",
    "grafica.displot()"
   ]
  },
  {
   "cell_type": "markdown",
   "metadata": {},
   "source": [
    "este programa nos permite ver que tanto varian los desembolsos de las medicina especializadas y la preferentes, basandonos en el estado de Alaska, primero nos da el porcentaje de las especializadas y despues de las preferentes y como resultado final nos da la variacion entre ambos porcentajes. "
   ]
  }
 ],
 "metadata": {
  "kernelspec": {
   "display_name": "Python 2",
   "language": "python",
   "name": "python2"
  },
  "language_info": {
   "codemirror_mode": {
    "name": "ipython",
    "version": 2
   },
   "file_extension": ".py",
   "mimetype": "text/x-python",
   "name": "python",
   "nbconvert_exporter": "python",
   "pygments_lexer": "ipython2",
   "version": "2.7.11"
  }
 },
 "nbformat": 4,
 "nbformat_minor": 0
}
