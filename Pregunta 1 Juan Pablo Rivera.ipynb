{
 "cells": [
  {
   "cell_type": "code",
   "execution_count": null,
   "metadata": {
    "collapsed": true
   },
   "outputs": [],
   "source": [
    "#cual es la probabilidad de que te den seguro dental para niños si tienes un seguro gold en los 3 estados con mas asegurados"
   ]
  },
  {
   "cell_type": "code",
   "execution_count": null,
   "metadata": {
    "collapsed": true
   },
   "outputs": [],
   "source": [
    "import pandas as pd\n",
    "import seaborn as sns\n",
    "import matplotlib.pyplot as plt\n",
    "import numpy\n",
    "\n",
    "data = pd.read_csv('seguros.csv')\n",
    "\n",
    "metal = data[['Metal_level']]\n",
    "estado = data[['State']]\n",
    "patojo = data[['Child_dental']]\n",
    "viejo = data[['Adult_dental']]\n",
    "\n",
    "#cual es la probabilidad de que te den seguro dental para niños si tienes un seguro gold en los 3 estados con mas asegurados\n",
    "data.State.value_counts()\n",
    "#texas, Georgia, Ohio son los estados mas asegurados\n",
    "\n",
    "tx=data[(data.State == \"TX\")]\n",
    "ga=data[(data.State == \"GA\")]\n",
    "oh=data[(data.State == \"OH\")]\n",
    "\n",
    "a = oh[(oh.Metal_level== \"Gold\")& (oh.Child_dental == \"X\")]\n",
    "a.count()\n",
    "a.count()/data.count()*100\n",
    "# en Ohio la probabilidad es de 0.244\n",
    "b = tx[(tx.Metal_level== \"Gold\")& (tx.Child_dental == \"X\")]\n",
    "b.count()\n",
    "b.count()/data.count()*100\n",
    "#la probabilidad en Texas es de 0.126\n",
    "c = ga[(ga.Metal_level== \"Gold\")& (ga.Child_dental == \"X\")]\n",
    "c.count()\n",
    "c.count()/data.count()*100\n",
    "# la probabilidad en Georgia es de 0.853"
   ]
  }
 ],
 "metadata": {
  "kernelspec": {
   "display_name": "Python 3",
   "language": "python",
   "name": "python3"
  },
  "language_info": {
   "codemirror_mode": {
    "name": "ipython",
    "version": 3
   },
   "file_extension": ".py",
   "mimetype": "text/x-python",
   "name": "python",
   "nbconvert_exporter": "python",
   "pygments_lexer": "ipython3",
   "version": "3.5.1"
  }
 },
 "nbformat": 4,
 "nbformat_minor": 0
}
