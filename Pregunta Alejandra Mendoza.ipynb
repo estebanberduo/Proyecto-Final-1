{
 "cells": [
  {
   "cell_type": "markdown",
   "metadata": {},
   "source": [
    "## Cuando se mueven mas los personajes? parados o sentados?"
   ]
  },
  {
   "cell_type": "markdown",
   "metadata": {},
   "source": [
    "Primero filtramos los datos por cada personaje, luego los datos resultantes los filtramos por accion (sentados o parados) y definimos los datos para el acelerometro que esta en la cadera. Calculamos la desviacion standar cuando esta sentado y cuando esta parada, luego las comparamos para ver cual es mayor y asi definir cual es mayor. "
   ]
  },
  {
   "cell_type": "markdown",
   "metadata": {},
   "source": [
    "### Debora"
   ]
  },
  {
   "cell_type": "code",
   "execution_count": null,
   "metadata": {
    "collapsed": true
   },
   "outputs": [],
   "source": [
    "ds1= data[(data.user == \"debora\")&(data.clase == \"sitting\")].x1\n",
    "a= np.std(ds1)\n",
    "ds2= data[(data.user == \"debora\")&(data.clase == \"sitting\")].y1\n",
    "b=np.std(ds2)\n",
    "ds3= data[(data.user == \"debora\")&(data.clase == \"sitting\")].z1\n",
    "c=np.std(ds3)\n",
    "\n",
    "dss = sqrt(a**2 + b**2 + c**2)\n",
    "print dss ## Desviacion total de debora cuando esta sentada 22.1595677486\n",
    "\n",
    "ds1= data[(data.user == \"debora\")&(data.clase == \"standing\")].x1\n",
    "a= np.std(ds1)\n",
    "ds2= data[(data.user == \"debora\")&(data.clase == \"standing\")].y1\n",
    "b=np.std(ds2)\n",
    "ds3= data[(data.user == \"debora\")&(data.clase == \"standing\")].z1\n",
    "c=np.std(ds3)\n",
    "\n",
    "dsp = sqrt(a**2 + b**2 + c**2)\n",
    "print dsp ## Desviacion total de debora cuando esta parada 14.0495823354\n",
    "\n",
    "resultado = dss - dsp"
   ]
  },
  {
   "cell_type": "markdown",
   "metadata": {},
   "source": [
    "### Resultado\n",
    "Debora se mueve mas estando sentada"
   ]
  },
  {
   "cell_type": "markdown",
   "metadata": {},
   "source": [
    "### Jose Carlos"
   ]
  },
  {
   "cell_type": "code",
   "execution_count": null,
   "metadata": {
    "collapsed": true
   },
   "outputs": [],
   "source": [
    "ds1= data[(data.user == \"jose_carlos\")&(data.clase == \"sitting\")].x1\n",
    "a= np.std(ds1)\n",
    "ds2= data[(data.user == \"jose_carlos\")&(data.clase == \"sitting\")].y1\n",
    "b= np.std(ds2)\n",
    "ds3= data[(data.user == \"jose_carlos\")&(data.clase == \"sitting\")].z1\n",
    "c= np.std(ds3)\n",
    "\n",
    "dss = sqrt(a**2 + b**2 + c**2)\n",
    "print dss ## Desviacion total de Jose Carlos cuando esta sentada 22.1595677486\n",
    "\n",
    "ds1= data[(data.user == \"jose_carlos\")&(data.clase == \"standing\")].x1\n",
    "a= np.std(ds1)\n",
    "ds2= data[(data.user == \"jose_carlos\")&(data.clase == \"standing\")].y1\n",
    "b=np.std(ds2)\n",
    "ds3= data[(data.user == \"jose_carlos\")&(data.clase == \"standing\")].z1\n",
    "c=np.std(ds3)\n",
    "\n",
    "dsp = sqrt(a**2 + b**2 + c**2)\n",
    "print dsp ## Desviacion total de Jose Carlos cuando esta sentada 14.0495823354\n",
    "\n",
    "resultado = dss - dsp"
   ]
  },
  {
   "cell_type": "markdown",
   "metadata": {},
   "source": [
    "### Resultado\n",
    "Jose Carlos se mueve mas estando sentado"
   ]
  },
  {
   "cell_type": "markdown",
   "metadata": {},
   "source": [
    "### Katia"
   ]
  },
  {
   "cell_type": "code",
   "execution_count": null,
   "metadata": {
    "collapsed": true
   },
   "outputs": [],
   "source": [
    "ds1= data[(data.user == \"katia\")&(data.clase == \"sitting\")].x1\n",
    "a= np.std(ds1) \n",
    "ds2= data[(data.user == \"katia\")&(data.clase == \"sitting\")].y1\n",
    "b= np.std(ds2) \n",
    "ds3= data[(data.user == \"katia\")&(data.clase == \"sitting\")].z1\n",
    "c= np.std(ds3) \n",
    "\n",
    "dss = sqrt(a**2 + b**2 + c**2)\n",
    "print dss ## Desviacion total de Katia cuando esta sentada 16.4931652722\n",
    "\n",
    "ds1= data[(data.user == \"katia\")&(data.clase == \"standing\")].x1\n",
    "a= np.std(ds1) ## 4.5194064321378855\n",
    "ds2= data[(data.user == \"katia\")&(data.clase == \"standing\")].y1\n",
    "b=np.std(ds2) ## \n",
    "ds3= data[(data.user == \"katia\")&(data.clase == \"standing\")].z1\n",
    "c=np.std(ds3)\n",
    "\n",
    "dsp = sqrt(a**2 + b**2 + c**2)\n",
    "print dsp ## Desviacion total de Jose Carlos cuando esta sentada 6.21815948558\n",
    "\n",
    "resultado = dss - dsp"
   ]
  },
  {
   "cell_type": "markdown",
   "metadata": {},
   "source": [
    "### Resultado\n",
    "Katia se mueve mas estando sentada"
   ]
  },
  {
   "cell_type": "markdown",
   "metadata": {},
   "source": [
    "### Wallace"
   ]
  },
  {
   "cell_type": "code",
   "execution_count": null,
   "metadata": {
    "collapsed": true
   },
   "outputs": [],
   "source": [
    "a= np.std(ds1) \n",
    "ds2= data[(data.user == \"wallace\")&(data.clase == \"sitting\")].y1\n",
    "b= np.std(ds2) \n",
    "ds3= data[(data.user == \"wallace\")&(data.clase == \"sitting\")].z1\n",
    "c= np.std(ds3) \n",
    "\n",
    "dss =  sqrt(a**2 + b**2 + c**2)\n",
    "print dss ## Desviacion total de Katia cuando esta sentada 6.21815948558\n",
    "\n",
    "ds1= data[(data.user == \"wallace\")&(data.clase == \"standing\")].x1\n",
    "a= np.std(ds1) ## 4.5194064321378855\n",
    "ds2= data[(data.user == \"wallace\")&(data.clase == \"standing\")].y1\n",
    "b=np.std(ds2) ## \n",
    "ds3= data[(data.user == \"wallace\")&(data.clase == \"standing\")].z1\n",
    "c=np.std(ds3)\n",
    "\n",
    "dsp = sqrt(a**2 + b**2 + c**2)\n",
    "print dsp ## Desviacion total de Jose Carlos cuando esta sentada 11.0750559715\n",
    "\n",
    "resultado = dss - dsp"
   ]
  },
  {
   "cell_type": "markdown",
   "metadata": {},
   "source": [
    "### Resultado\n",
    "Se mueve mas estando parado"
   ]
  },
  {
   "cell_type": "markdown",
   "metadata": {},
   "source": [
    "### Conclusion \n",
    " 3 de los 4 personajes se mueven mas cuando estan sentados"
   ]
  }
 ],
 "metadata": {
  "kernelspec": {
   "display_name": "Python 2",
   "language": "python",
   "name": "python2"
  },
  "language_info": {
   "codemirror_mode": {
    "name": "ipython",
    "version": 2
   },
   "file_extension": ".py",
   "mimetype": "text/x-python",
   "name": "python",
   "nbconvert_exporter": "python",
   "pygments_lexer": "ipython2",
   "version": "2.7.11"
  }
 },
 "nbformat": 4,
 "nbformat_minor": 0
}
