{
 "cells": [
  {
   "cell_type": "markdown",
   "metadata": {},
   "source": [
    "# Pregunta\n",
    "## ¿Cuál es el plan acreditado que ofrece un menor individual out of pocket en cada estado?\n",
    "Por: Julio Esteban Berdúo Aragón"
   ]
  },
  {
   "cell_type": "code",
   "execution_count": 2,
   "metadata": {
    "collapsed": false
   },
   "outputs": [
    {
     "name": "stdout",
     "output_type": "stream",
     "text": [
      "   State                              plan_marketing_plan Accreditation  \\\n",
      "0     AK                      Be Adventurous (Providence)          NCQA   \n",
      "1     AL                                 Blue Access Gold          NCQA   \n",
      "2     AZ  AZ Blue CopayComplete HMO 25 - Alliance Network          NCQA   \n",
      "3     FL                      .HF Gold PPO Select 80 1014         AAAHC   \n",
      "4     GA                         Ambetter Balanced Care 1          NCQA   \n",
      "5     IN                         Ambetter Balanced Care 1          NCQA   \n",
      "6     LA               AAA011 Vantage Individual Platinum          NCQA   \n",
      "7     MO                Anthem Bronze Pathway X 0 for HSA          NCQA   \n",
      "8     MS                         Ambetter Balanced Care 5          NCQA   \n",
      "9     NC              Blue Advantage 1000 (broad network)          NCQA   \n",
      "10    ND                                 BlueCare 70 1000          NCQA   \n",
      "11    NJ   Health Republic Active Access Spotlight Bronze          NCQA   \n",
      "12    OK                  Assurant Health Bronze Plan 001          NCQA   \n",
      "13    PA          Aetna Bronze $15 Copay HMO Savings Plus          NCQA   \n",
      "14    SC                  Assurant Health Bronze Plan 001          NCQA   \n",
      "15    TN                  Assurant Health Bronze Plan 001          NCQA   \n",
      "16    TX                           Aetna Bronze $20 Copay          NCQA   \n",
      "17    WI                         Ambetter Balanced Care 1          NCQA   \n",
      "18    WY                          BlueSelect Bronze Basic          NCQA   \n",
      "\n",
      "    Medical_Maximum_Out_Of_Pocket _individual _standard  \n",
      "0                                                4750    \n",
      "1                                                1500    \n",
      "2                                                1250    \n",
      "3                                                1000    \n",
      "4                                                1500    \n",
      "5                                                2000    \n",
      "6                                                1400    \n",
      "7                                                1500    \n",
      "8                                                1500    \n",
      "9                                                1500    \n",
      "10                                               2100    \n",
      "11                                               1000    \n",
      "12                                               2000    \n",
      "13                                                500    \n",
      "14                                               2000    \n",
      "15                                               1500    \n",
      "16                                               1500    \n",
      "17                                               1000    \n",
      "18                                               1350    \n",
      "State           AK   AL   AZ    FL    GA    IN    LA    MO    MS    NC   ND  \\\n",
      "Accreditation                                                                 \n",
      "AAAHC            0    0    0     4     0     0     0     0     0     0    0   \n",
      "NCQA           348  551  647  2506  5760  2199   908  1982  1540  2142  685   \n",
      "URAC             0    0  377   402   954   776  1384     0     0     0  901   \n",
      "\n",
      "State           NJ    OK    PA    SC    TN    TX    WI   WY  \n",
      "Accreditation                                                \n",
      "AAAHC            0     0     0     0     0     0     0    0  \n",
      "NCQA           990   686  2733  1660  4406  6336  4286  299  \n",
      "URAC             0  1468   402  1012   570   507   221  690  \n"
     ]
    },
    {
     "data": {
      "text/plain": [
       "<matplotlib.axes._subplots.AxesSubplot at 0xde7d588>"
      ]
     },
     "execution_count": 2,
     "metadata": {},
     "output_type": "execute_result"
    },
    {
     "data": {
      "image/png": "[encoded data removed]",
      "text/plain": [
       "<matplotlib.figure.Figure at 0xde72198>"
      ]
     },
     "metadata": {},
     "output_type": "display_data"
    }
   ],
   "source": [
    "from __future__ import division\n",
    "import pandas as pd\n",
    "import seaborn as sns\n",
    "import matplotlib.pyplot as plt\n",
    "\n",
    "seguros = pd.read_csv('seguros.csv')\n",
    "s = ['State','plan_marketing_plan','Accreditation','Premium_adult_Age21','Premium_adult_Age27','Premium_adult_Age30 ','Premium_adult_Age40 ','Premium_adult_Age50 ','Premium_adult_Age60 ','Medical_Maximum_Out_Of_Pocket _individual _standard']\n",
    "s2 = ['Premium_adult_Age21','Premium_adult_Age27','Premium_adult_Age30 ','Premium_adult_Age40 ','Premium_adult_Age50 ','Premium_adult_Age60 ']\n",
    "seg = seguros[s]\n",
    "segsprom = seg.groupby(['State'],as_index=False).mean()\n",
    "seg2 = seg.groupby('State',as_index=False).mean()\n",
    "states = seg2['State']\n",
    "\n",
    "s3 = ~seg['Accreditation'].isnull()\n",
    "seg3 = seg[s][s3]\n",
    "#Planes más económicos por estado.\n",
    "seg3mins = seg3.groupby(['State'],as_index=False).min()\n",
    "print seg3mins[['State','plan_marketing_plan','Accreditation','Medical_Maximum_Out_Of_Pocket _individual _standard']]\n",
    "#Acreditaciones por estado\n",
    "print pd.crosstab(seguros.Accreditation,seguros.State)\n",
    "\n",
    "#Medical maximum out of pocket individual standard mínimo por estado\n",
    "sns.barplot(seg3mins['State'],seg3mins['Medical_Maximum_Out_Of_Pocket _individual _standard'])"
   ]
  }
 ],
 "metadata": {
  "kernelspec": {
   "display_name": "Python 2",
   "language": "python",
   "name": "python2"
  },
  "language_info": {
   "codemirror_mode": {
    "name": "ipython",
    "version": 2
   },
   "file_extension": ".py",
   "mimetype": "text/x-python",
   "name": "python",
   "nbconvert_exporter": "python",
   "pygments_lexer": "ipython2",
   "version": "2.7.11"
  }
 },
 "nbformat": 4,
 "nbformat_minor": 0
}
