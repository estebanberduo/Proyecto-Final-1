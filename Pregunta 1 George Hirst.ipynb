{
 "cells": [
  {
   "cell_type": "code",
   "execution_count": null,
   "metadata": {
    "collapsed": true
   },
   "outputs": [],
   "source": [
    "# -*- coding: utf-8 -*-\n",
    "\"\"\"\n",
    "Created on Mon May 16 11:19:12 2016\n",
    "\n",
    "@author: georgehirst\n",
    "\"\"\"\n",
    "\n",
    "import pandas as pd \n",
    "import numpy as np \n",
    "import matplotlib as plt \n",
    "import seaborn as sb \n",
    "\n",
    "dst = pd.read_csv('seguros.csv')\n",
    "\n",
    "x = dst[['Metal_level','Generic_Drugs_standard','Preferred_Brand_Drugs_standard']]\n",
    "gold = x[dst.Metal_level == 'Gold']\n",
    "total = len(gold.index)\n",
    "\n",
    "def hola(g):\n",
    "    filtro = (gold.loc[gold['Generic_Drugs_standard'] == g])\n",
    "    p1 = filtro.groupby(['Generic_Drugs_standard'])['Metal_level'].count() * 100/len(gold)\n",
    "    p2 = filtro.groupby(['Preferred_Brand_Drugs_standard'])['Metal_level'].count() * 100/len(gold)\n",
    "    print ('Porcentaje de los que usan el Generic Drug standard ingresado sobre el total de usuarios gold')\n",
    "    print p1[0]\n",
    "    print ('Porcentaje de los que usan Preferred Brand Drug standard ingresado sobre el total de usuarios gold')\n",
    "    print p2[0]\n",
    "    print('Diferencia de porcentajes')\n",
    "    print p1[0]-p2[0]\n",
    "\n",
    "\n",
    "o = input()\n",
    "hola(o)\n"
   ]
  },
  {
   "cell_type": "markdown",
   "metadata": {},
   "source": [
    "este programa permite ver los porcentajes de desembolso sobre las medicinas genericas y no genericas, y como resultado final nos permite ver la variacion entre esos porcentajes. "
   ]
  }
 ],
 "metadata": {
  "kernelspec": {
   "display_name": "Python 2",
   "language": "python",
   "name": "python2"
  },
  "language_info": {
   "codemirror_mode": {
    "name": "ipython",
    "version": 2
   },
   "file_extension": ".py",
   "mimetype": "text/x-python",
   "name": "python",
   "nbconvert_exporter": "python",
   "pygments_lexer": "ipython2",
   "version": "2.7.11"
  }
 },
 "nbformat": 4,
 "nbformat_minor": 0
}
