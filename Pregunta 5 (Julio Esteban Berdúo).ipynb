{
 "cells": [
  {
   "cell_type": "markdown",
   "metadata": {},
   "source": [
    "# Pregunta 5\n",
    "## ¿Que counties tienen los seguros con mayor precio de prima para solteros y qué probabilidad hay de que un soltero pertenezca a este grupo?"
   ]
  },
  {
   "cell_type": "markdown",
   "metadata": {},
   "source": [
    "Por: Julio Esteban Berdúo Aragón\n",
    "\n",
    "Primero se filtra la base de datos por los campos que contienen los precios de seguros para adultos solteros, luego se agrupan por condado y se obtienen los promedios de cada uno. FInalmente se obtienen los condados con promedios más altos y se calculan las probabilidades de que un soltero esté en esos campos."
   ]
  },
  {
   "cell_type": "code",
   "execution_count": 1,
   "metadata": {
    "collapsed": false
   },
   "outputs": [
    {
     "name": "stdout",
     "output_type": "stream",
     "text": [
      "Condados con mayor precio de prima:\n",
      "County: Valdez Cordova\n",
      "Probabilidad: 0.000313906037459\n",
      "County: Anchorage\n",
      "Probabilidad: 0.000313906037459\n",
      "County: Bethel\n",
      "Probabilidad: 0.000313906037459\n",
      "County: Dillingham\n",
      "Probabilidad: 0.000313906037459\n",
      "Probabilidad Total: 0.00125562414984\n"
     ]
    },
    {
     "name": "stderr",
     "output_type": "stream",
     "text": [
      "C:\\Anaconda2\\lib\\site-packages\\IPython\\core\\interactiveshell.py:2723: DtypeWarning: Columns (11,41,43) have mixed types. Specify dtype option on import or set low_memory=False.\n",
      "  interactivity=interactivity, compiler=compiler, result=result)\n"
     ]
    }
   ],
   "source": [
    "from __future__ import division #Para obtener una división de tipo float.\n",
    "import pandas as pd\n",
    "\n",
    "seguros = pd.read_csv('seguros.csv')\n",
    "seg = ['County','Premium_adult_Age21','Premium_adult_Age27','Premium_adult_Age30 ','Premium_adult_Age40 ','Premium_adult_Age50 ','Premium_adult_Age60 ']\n",
    "seg2 = ['Premium_adult_Age21','Premium_adult_Age27','Premium_adult_Age30 ','Premium_adult_Age40 ','Premium_adult_Age50 ','Premium_adult_Age60 ']\n",
    "counties = seguros[seg]\n",
    "countiesavg = counties.groupby('County',as_index=False).mean()\n",
    "\n",
    "#Devuelve una lista con los counties con mayor precio promedio de acuerdo al campo enviado.\n",
    "def get_counties(grupo,data,campo,maximo):\n",
    "    cda = data[[grupo,campo]]\n",
    "    cda2= cda.groupby(grupo,as_index=False).mean().values.tolist()\n",
    "    l1=[]\n",
    "    for i in cda2:\n",
    "        if i[1]==maximo:\n",
    "            l1.append(i[0])\n",
    "    return l1\n",
    "\n",
    "l=[]\n",
    "prob=0\n",
    "for i in seg2:\n",
    "    maximum = countiesavg[i].max()\n",
    "    l+=get_counties('County',counties,i,maximum)\n",
    "\n",
    "l2=list(set(l)) #Elimina los counties repetidos.\n",
    "prob = 0\n",
    "print 'Condados con mayor precio de prima:'\n",
    "for i in l2:\n",
    "    c2 = counties[counties['County']==i]\n",
    "    a = (c2['Premium_adult_Age30 '].count())/(counties['Premium_adult_Age30 '].count())\n",
    "    print 'County: '+i\n",
    "    print 'Probabilidad: '+str(a) #Probabilidad individual del county.\n",
    "    prob +=a\n",
    "    \n",
    "print 'Probabilidad Total: '+ str(prob)"
   ]
  }
 ],
 "metadata": {
  "kernelspec": {
   "display_name": "Python 2",
   "language": "python",
   "name": "python2"
  },
  "language_info": {
   "codemirror_mode": {
    "name": "ipython",
    "version": 2
   },
   "file_extension": ".py",
   "mimetype": "text/x-python",
   "name": "python",
   "nbconvert_exporter": "python",
   "pygments_lexer": "ipython2",
   "version": "2.7.11"
  }
 },
 "nbformat": 4,
 "nbformat_minor": 0
}
