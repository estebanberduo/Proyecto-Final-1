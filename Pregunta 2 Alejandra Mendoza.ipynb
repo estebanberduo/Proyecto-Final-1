{
 "cells": [
  {
   "cell_type": "markdown",
   "metadata": {},
   "source": [
    "## Pregunta 2"
   ]
  },
  {
   "cell_type": "markdown",
   "metadata": {},
   "source": [
    "### Librerias"
   ]
  },
  {
   "cell_type": "code",
   "execution_count": 4,
   "metadata": {
    "collapsed": false
   },
   "outputs": [
    {
     "name": "stdout",
     "output_type": "stream",
     "text": [
      "C:\\Users\\user\\Desktop\\UFM\\Tercer semestre\\Data Science\n"
     ]
    },
    {
     "name": "stderr",
     "output_type": "stream",
     "text": [
      "C:\\Users\\user\\Anaconda3\\lib\\site-packages\\IPython\\core\\interactiveshell.py:2723: DtypeWarning: Columns (11,41,43) have mixed types. Specify dtype option on import or set low_memory=False.\n",
      "  interactivity=interactivity, compiler=compiler, result=result)\n"
     ]
    }
   ],
   "source": [
    "%cd C:\\Users\\user\\Desktop\\UFM\\Tercer semestre\\Data Science\n",
    "import numpy as np\n",
    "import pandas as pd\n",
    "import matplotlib as mpl\n",
    "import matplotlib.pyplot as plt\n",
    "import seaborn as sns\n",
    "data = pd.read_csv('seguro.csv')"
   ]
  },
  {
   "cell_type": "markdown",
   "metadata": {},
   "source": [
    "### Que seguro buscan mas las personas?"
   ]
  },
  {
   "cell_type": "code",
   "execution_count": 5,
   "metadata": {
    "collapsed": false
   },
   "outputs": [
    {
     "data": {
      "text/plain": [
       "Metal_level\n",
       "Bronze          28520\n",
       "Catastrophic     5374\n",
       "Gold            22522\n",
       "Platinum         4511\n",
       "Silver          35423\n",
       "Name: Metal_level, dtype: int64"
      ]
     },
     "execution_count": 5,
     "metadata": {},
     "output_type": "execute_result"
    }
   ],
   "source": [
    "data.Metal_level.unique()\n",
    "byx=data.groupby(\"Metal_level\")\n",
    "byx[\"Metal_level\"].count()"
   ]
  },
  {
   "cell_type": "markdown",
   "metadata": {
    "collapsed": true
   },
   "source": [
    "![caption](Metal_level.png)"
   ]
  },
  {
   "cell_type": "markdown",
   "metadata": {},
   "source": [
    "### como afecta un seguro de baja calidad las primas y los deducibles (maximum_out_of_pocket)"
   ]
  },
  {
   "cell_type": "markdown",
   "metadata": {},
   "source": [
    "Filtramos los datas sen el tipo de seguro que tiene y sacamos la prima y deducible promedio "
   ]
  },
  {
   "cell_type": "code",
   "execution_count": 8,
   "metadata": {
    "collapsed": true
   },
   "outputs": [],
   "source": [
    "a1 = data[data[\"Metal_level\"]== \"Platinum\"]\n",
    "b=total.Premium_child.max()\n",
    "c1=a1.Premium_child.mean()"
   ]
  },
  {
   "cell_type": "code",
   "execution_count": 9,
   "metadata": {
    "collapsed": true
   },
   "outputs": [],
   "source": [
    "a2 = data[data[\"Metal_level\"]== 'Silver']\n",
    "b=total.Premium_child.max()\n",
    "c2 = a2.Premium_child.mean()"
   ]
  },
  {
   "cell_type": "code",
   "execution_count": null,
   "metadata": {
    "collapsed": true
   },
   "outputs": [],
   "source": [
    "a3 = data[data[\"Metal_level\"]== 'Golden']\n",
    "b=total.Premium_child.max()\n",
    "c3 = a3.Premium_child.mean()"
   ]
  },
  {
   "cell_type": "code",
   "execution_count": null,
   "metadata": {
    "collapsed": false
   },
   "outputs": [],
   "source": [
    "a4 = data[data[\"Metal_level\"]== 'Bronze']\n",
    "b=total.Premium_child.max()\n",
    "c4 = a4.Premium_child.mean()"
   ]
  },
  {
   "cell_type": "code",
   "execution_count": 7,
   "metadata": {
    "collapsed": true
   },
   "outputs": [],
   "source": [
    "a5 = data[data[\"Metal_level\"]== \"Catastrophic\"]\n",
    "b=total.Premium_child.max()\n",
    "c5 =  a5.Premium_child.mean()"
   ]
  },
  {
   "cell_type": "markdown",
   "metadata": {},
   "source": [
    "## Sacamos el porcentaje de cuanto varian las prima basandonos en un seguro Silver que es el que mas hay"
   ]
  },
  {
   "cell_type": "code",
   "execution_count": 25,
   "metadata": {
    "collapsed": true
   },
   "outputs": [],
   "source": [
    "def Porcentaje2(c1,b):\n",
    "    return 100-((c1/b)*100)"
   ]
  },
  {
   "cell_type": "code",
   "execution_count": 20,
   "metadata": {
    "collapsed": true
   },
   "outputs": [],
   "source": [
    "def Porcentaje2(c2,b):\n",
    "    return 100-((c2/b)*100)"
   ]
  },
  {
   "cell_type": "code",
   "execution_count": 21,
   "metadata": {
    "collapsed": true
   },
   "outputs": [],
   "source": [
    "def Porcentaje3(c3,b):\n",
    "    return 100-((c3/b)*100)"
   ]
  },
  {
   "cell_type": "code",
   "execution_count": 22,
   "metadata": {
    "collapsed": true
   },
   "outputs": [],
   "source": [
    "def Porcentaje4(c4,b):\n",
    "    return 100-((c4/b)*100)"
   ]
  },
  {
   "cell_type": "markdown",
   "metadata": {},
   "source": [
    "### Cuanto varian las primas y los deducibles entre el mejor seguro y el mas buscado?"
   ]
  },
  {
   "cell_type": "code",
   "execution_count": 10,
   "metadata": {
    "collapsed": true
   },
   "outputs": [],
   "source": [
    "def Porcentaje4(c1,c2,b):\n",
    "    return ((100-(c1-c2)/b)*100)"
   ]
  },
  {
   "cell_type": "markdown",
   "metadata": {},
   "source": [
    "### Cuanto varian las primas y los deducibles entre el seguro de menor calidad y el mas buscado?"
   ]
  },
  {
   "cell_type": "code",
   "execution_count": 11,
   "metadata": {
    "collapsed": true
   },
   "outputs": [],
   "source": [
    "def Porcentaje4(c2,c5):\n",
    "    return ((100-(c2-c5)/b)*100)"
   ]
  },
  {
   "cell_type": "markdown",
   "metadata": {},
   "source": [
    "## Que probabilidad hay de que una persona tenga un seguro de k tipo?"
   ]
  },
  {
   "cell_type": "code",
   "execution_count": 12,
   "metadata": {
    "collapsed": false
   },
   "outputs": [
    {
     "data": {
      "text/plain": [
       "Metal_level\n",
       "Bronze          0.296004\n",
       "Catastrophic    0.055776\n",
       "Gold            0.233752\n",
       "Platinum        0.046819\n",
       "Silver          0.367649\n",
       "Name: Metal_level, dtype: float64"
      ]
     },
     "execution_count": 12,
     "metadata": {},
     "output_type": "execute_result"
    }
   ],
   "source": [
    "\n",
    "bym=data.groupby(\"Metal_level\")\n",
    "bym[\"Metal_level\"].count()/bym[\"Metal_level\"].count().sum()\n",
    "tabla = bym[\"Metal_level\"].count()\n",
    "tabla/tabla.sum()"
   ]
  },
  {
   "cell_type": "markdown",
   "metadata": {},
   "source": [
    "![caption](Plan_type.png)"
   ]
  }
 ],
 "metadata": {
  "kernelspec": {
   "display_name": "Python 2",
   "language": "python",
   "name": "python2"
  },
  "language_info": {
   "codemirror_mode": {
    "name": "ipython",
    "version": 2
   },
   "file_extension": ".py",
   "mimetype": "text/x-python",
   "name": "python",
   "nbconvert_exporter": "python",
   "pygments_lexer": "ipython2",
   "version": "2.7.11"
  }
 },
 "nbformat": 4,
 "nbformat_minor": 0
}
